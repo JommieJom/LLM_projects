{
 "cells": [
  {
   "cell_type": "code",
   "execution_count": 2,
   "id": "62529373-2921-4bff-9dfb-58f09df4e483",
   "metadata": {},
   "outputs": [],
   "source": [
    "import os\n",
    "import requests\n",
    "import json\n",
    "from typing import List\n",
    "from dotenv import load_dotenv\n",
    "from bs4 import BeautifulSoup\n",
    "from IPython.display import Markdown, display, update_display\n",
    "from openai import OpenAI"
   ]
  },
  {
   "cell_type": "code",
   "execution_count": 5,
   "id": "0d090396-d2f7-4e14-9759-fd7cb36e550d",
   "metadata": {},
   "outputs": [
    {
     "name": "stdout",
     "output_type": "stream",
     "text": [
      "API key found\n"
     ]
    }
   ],
   "source": [
    "# Initialize and constants\n",
    "\n",
    "load_dotenv(override=True)\n",
    "api_key = os.getenv('OPENAI_API_KEY')\n",
    "\n",
    "if api_key and api_key.startswith('sk-proj-') and len(api_key)>10:\n",
    "    print(\"API key found\")\n",
    "else:\n",
    "    print(\"No API found\")\n",
    "    \n",
    "MODEL = 'gpt-4o-mini'\n",
    "openai = OpenAI()"
   ]
  },
  {
   "cell_type": "code",
   "execution_count": 17,
   "id": "78737621-8ea3-4fbb-8168-0125929ceb35",
   "metadata": {},
   "outputs": [],
   "source": [
    "class Website:\n",
    "\n",
    "    def __init__(self, url):\n",
    "        \"\"\"\n",
    "        Create this Website object from the given url using the BeautifulSoup library\n",
    "        \"\"\"\n",
    "        self.url = url\n",
    "        response = requests.get(url, headers=headers)\n",
    "        soup = BeautifulSoup(response.content, 'html.parser')\n",
    "        self.title = soup.title.string if soup.title else \"No title found\"\n",
    "        for irrelevant in soup.body([\"script\", \"style\", \"img\", \"input\"]):\n",
    "            irrelevant.decompose()\n",
    "        self.text = soup.body.get_text(separator=\"\\n\", strip=True)"
   ]
  },
  {
   "cell_type": "code",
   "execution_count": 35,
   "id": "6343cc9c-823c-43b5-a72c-c525b7b7fca2",
   "metadata": {},
   "outputs": [
    {
     "name": "stdout",
     "output_type": "stream",
     "text": [
      "Spanish La Liga Table\n"
     ]
    }
   ],
   "source": [
    "url = \"https://www.skysports.com/la-liga-table\"\n",
    "web = Website(url)\n",
    "print(web.title)"
   ]
  },
  {
   "cell_type": "code",
   "execution_count": 36,
   "id": "ad0de079-03e0-463b-a13b-92e81007647f",
   "metadata": {},
   "outputs": [],
   "source": [
    "system_prompt = \"You are an assistant that analyzes the table of football league of a website \\\n",
    "and provides a short summary, ignoring text that might be navigation related. \\\n",
    "Respond in markdown.\""
   ]
  },
  {
   "cell_type": "code",
   "execution_count": 47,
   "id": "2b2023c3-c0a6-453c-890f-59145333ab8d",
   "metadata": {},
   "outputs": [],
   "source": [
    "# User Prompt that asks for summaries of websites\n",
    "\n",
    "def user_prompt_for(website):\n",
    "    user_prompt = f\"You are looking at a website titled {website.title}\"\n",
    "    user_prompt += \"\\nThe contents of this website is as follows; \\\n",
    "please provide a short summary of the table in markdown. \\\n",
    "Also provide whuch team are top four and which teams are in danger zone for relegation\\\n",
    "Which team scored the most, and which team score the least\\\n",
    "Which team conceded most goal, and conceded least goal\\\n",
    "After that analyze key insight of these data from given page\\\\n\"\n",
    "    user_prompt += website.text\n",
    "    return user_prompt"
   ]
  },
  {
   "cell_type": "code",
   "execution_count": 48,
   "id": "321a97d9-7a0b-4f57-964d-5e907e640ad2",
   "metadata": {},
   "outputs": [],
   "source": [
    "def messages_for(website):\n",
    "    return [\n",
    "        {\"role\": \"system\", \"content\": system_prompt},\n",
    "        {\"role\": \"user\", \"content\": user_prompt_for(website)}\n",
    "    ]"
   ]
  },
  {
   "cell_type": "code",
   "execution_count": 49,
   "id": "6f128720-ce6f-45a3-b555-847e867ee169",
   "metadata": {},
   "outputs": [
    {
     "data": {
      "text/plain": [
       "[{'role': 'system',\n",
       "  'content': 'You are an assistant that analyzes the table of football league of a website and provides a short summary, ignoring text that might be navigation related. Respond in markdown.'},\n",
       " {'role': 'user',\n",
       "  'content': \"You are looking at a website titled Spanish La Liga Table\\nThe contents of this website is as follows; please provide a short summary of the table in markdown. Also provide whuch team are top four and which teams are in danger zone for relegationWhich team scored the most, and which team score the leastWhich team conceded most goal, and conceded least goalAfter that analyze key insight of these data from given page\\\\nSkip to content\\nHome\\nSports\\nFootball\\nF1\\nCricket\\nRugby Union\\nRugby League\\nGolf\\nBoxing\\nNFL\\nTennis\\nRacing\\nDarts\\nNetball\\nMMA\\nMore Sports\\nScores\\nWatch\\nSky Bet\\nShop\\nMore\\nPodcasts\\nLive on Sky\\nGet Sky Sports\\nSky Sports App\\nNOW\\nKick It Out\\nBlack Lives Matter\\nBritish South Asians in Football\\nWatch Sky Sports\\nFootball\\nNews\\nWatch\\nScores & Fixtures\\nTables\\nTransfers\\nTeams\\nAll Teams\\nPremier League\\nArsenal\\nAston Villa\\nBournemouth\\nBrentford\\nBrighton\\nChelsea\\nCrystal Palace\\nEverton\\nFulham\\nIpswich Town\\nLeicester City\\nLiverpool\\nManchester City\\nManchester United\\nNewcastle United\\nNottingham Forest\\nSouthampton\\nTottenham Hotspur\\nWest Ham United\\nWolverhampton\\nWomen's Super League\\nArsenal Women\\nAston Villa Women\\nBrighton and Hove Albion Women\\nChelsea Women\\nCrystal Palace Women\\nEverton Women\\nLeicester City Women\\nLiverpool Women\\nManchester City Women\\nManchester United Women\\nTottenham Hotspur Women\\nWest Ham United Women\\nChampionship\\nBlackburn Rovers\\nBristol City\\nBurnley\\nCardiff City\\nCoventry City\\nDerby County\\nHull City\\nLeeds United\\nLuton Town\\nMiddlesbrough\\nMillwall\\nNorwich City\\nOxford Utd\\nPlymouth Argyle\\nPortsmouth\\nPreston North End\\nQueens Park Rangers\\nSheffield Wednesday\\nSheffield United\\nStoke City\\nSunderland\\nSwansea City\\nWatford\\nWest Bromwich Albion\\nLeague One\\nBarnsley\\nBirmingham City\\nBlackpool\\nBolton Wanderers\\nBristol Rovers\\nBurton Albion\\nCambridge United\\nCharlton Athletic\\nCrawley Town\\nExeter City\\nHuddersfield Town\\nLeyton Orient\\nLincoln City\\nMansfield Town\\nNorthampton Town\\nPeterborough United\\nReading\\nRotherham United\\nShrewsbury Town\\nStevenage\\nStockport County\\nWigan Athletic\\nWycombe Wanderers\\nWrexham\\nLeague Two\\nAFC Wimbledon\\nAccrington Stanley\\nBarrow\\nBradford City\\nBromley\\nCarlisle United\\nCheltenham Town\\nChesterfield\\nColchester United\\nCrewe Alexandra\\nDoncaster\\nFleetwood Town\\nGillingham\\nGrimsby Town\\nHarrogate Town\\nMilton Keynes Dons\\nMorecambe\\nNewport County\\nNotts County\\nPort Vale\\nSalford City\\nSwindon Town\\nTranmere Rovers\\nWalsall\\nScottish Premiership\\nAberdeen\\nCeltic\\nDundee\\nDundee United\\nHeart of Midlothian\\nHibernian\\nKilmarnock\\nMotherwell\\nRangers\\nRoss County\\nSt Johnstone\\nSt Mirren\\nLa Liga\\nAthletic Bilbao\\nAtletico Madrid\\nBarcelona\\nCelta Vigo\\nCD Leganes\\nDeportivo Alaves\\nEspanyol\\nGetafe\\nGirona\\nLas Palmas\\nOsasuna\\nRayo Vallecano\\nReal Betis\\nReal Madrid\\nReal Mallorca\\nReal Sociedad\\nReal Valladolid\\nSevilla\\nValencia\\nVillarreal\\nSerie A\\nAC Milan\\nAtalanta\\nBologna\\nCagliari\\nComo\\nEmpoli\\nFiorentina\\nGenoa\\nInter Milan\\nJuventus\\nLazio\\nLecce\\nMonza\\nNapoli\\nParma\\nRoma\\nTorino\\nUdinese\\nVenezia\\nVerona\\nBundesliga\\nBayer Leverkusen\\nBayern Munich\\nBorussia Dortmund\\nBorussia Monchengladbach\\nEintracht Frankfurt\\nFC Augsburg\\nFSV Mainz 05\\nHeidenheim\\nHolstein Kiel\\nRB Leipzig\\nSC Freiburg\\nSt. Pauli\\nUnion Berlin\\nVFL Bochum\\nVfB Stuttgart\\nWerder Bremen\\nWolfsburg\\nLigue 1\\nAuxerre\\nAngers\\nBrest\\nLe Havre\\nLille\\nMontpellier\\nMonaco\\nNantes\\nNice\\nOlympique Lyonnais\\nOlympique Marseille\\nParis St Germain\\nRC Lens\\nRC Strasbourg\\nReims\\nSt Etienne\\nStade Rennes\\nToulouse\\nEredivisie\\nAjax\\nAlmere\\nAZ Alkmaar\\nFC Twente\\nFC Utrecht\\nFeyenoord\\nFortuna Sittard\\nGo Ahead Eagles\\nGroningen\\nHeerenveen\\nHeracles Almelo\\nNAC Breda\\nNEC Nijmegen\\nPEC Zwolle\\nPSV Eindhoven\\nRKC Waalwijk\\nSparta Rotterdam\\nWillem II\\nInternationals\\nAlbania\\nAlgeria\\nAngola\\nArgentina\\nAustralia\\nAustria\\nBelgium\\nBolivia\\nBosnia-Herzegovina\\nBrazil\\nBurkina Faso\\nCameroon\\nCanada\\nCape Verde\\nChile\\nColombia\\nCongo DR\\nCosta Rica\\nCroatia\\nCzech Republic\\nDenmark\\nEgypt\\nEngland\\nEcuador\\nEthiopia\\nFootball Union of Russia\\nFrance\\nGermany\\nGhana\\nGreece\\nHonduras\\nHungary\\nIceland\\nIran\\nItaly\\nIvory Coast\\nJamaica\\nJapan\\nKorea DPR\\nKorea Republic\\nMali\\nMexico\\nMorocco\\nNetherlands\\nNew Zealand\\nNiger\\nNigeria\\nNorthern Ireland\\nPanama\\nParaguay\\nPeru\\nPoland\\nPortugal\\nQatar\\nRepublic of Ireland\\nRomania\\nSaudi Arabia\\nScotland\\nSenegal\\nSerbia\\nSlovakia\\nSlovenia\\nSouth Africa\\nSpain\\nSweden\\nSwitzerland\\nTogo\\nTunisia\\nTurkey\\nUkraine\\nUSA\\nUruguay\\nVenezuela\\nWales\\nZambia\\nEuropean U21 Championship\\nEngland\\nItaly\\nCompetitions\\nDomestic Leagues\\nPremier League\\nWomen's Super League\\nSky Bet Championship\\nSky Bet League One\\nSky Bet League Two\\nScottish Premiership\\nThe FA Cup\\nCarabao Cup\\nScottish Women's Premier League\\nScottish Championship\\nScottish League 1\\nScottish League 2\\nEurope\\nUEFA Champions League\\nWomen's Champions League\\nUEFA Europa League\\nUEFA Conference League\\nInternationals\\nWomen's World Cup\\nUEFA Nations League\\nFIFA World Cup\\nWomen's European Championship\\nEuropean Championships\\nAfrica Cup of Nations\\nNational Leagues\\nGerman Bundesliga\\nSpanish La Liga\\nItalian Serie A\\nFrench Ligue 1\\nOn Sky\\nSky Bet\\nMore\\nSpanish La Liga Table\\nDomestic Leagues\\nDomestic Cups\\nNon-League\\nNational Leagues\\nEurope\\nInternationals\\nMore\\nSpanish La Liga\\nLast updated:\\n27 January, 8:50am\\nPosition\\nTeam\\nTeam\\nPl\\nPlayed\\nW\\nWon\\nD\\nDrawn\\nL\\nLost\\nF\\nGoals For\\nA\\nGoals Against\\nGD\\nGoal Difference\\nPts\\nPoints\\n1\\nReal Madrid\\n21\\n15\\n4\\n2\\n50\\n20\\n+30\\n49\\n2\\nAtletico Madrid\\n21\\n13\\n6\\n2\\n35\\n14\\n+21\\n45\\n3\\nBarcelona\\n21\\n13\\n3\\n5\\n59\\n24\\n+35\\n42\\n4\\nAthletic Bilbao\\n21\\n11\\n7\\n3\\n31\\n18\\n+13\\n40\\n5\\nVillarreal\\n21\\n9\\n7\\n5\\n39\\n32\\n+7\\n34\\n6\\nReal Mallorca\\n21\\n9\\n3\\n9\\n19\\n26\\n-7\\n30\\n7\\nRayo Vallecano\\n21\\n7\\n8\\n6\\n25\\n24\\n+1\\n29\\n8\\nGirona\\n21\\n8\\n4\\n9\\n29\\n29\\n0\\n28\\n9\\nReal Sociedad\\n21\\n8\\n4\\n9\\n17\\n17\\n0\\n28\\n10\\nReal Betis\\n21\\n7\\n7\\n7\\n23\\n26\\n-3\\n28\\n11\\nOsasuna\\n21\\n6\\n9\\n6\\n25\\n30\\n-5\\n27\\n12\\nSevilla\\n21\\n7\\n6\\n8\\n24\\n30\\n-6\\n27\\n13\\nCelta Vigo\\n20\\n7\\n3\\n10\\n29\\n32\\n-3\\n24\\n14\\nGetafe\\n21\\n5\\n8\\n8\\n17\\n17\\n0\\n23\\n15\\nLas Palmas\\n21\\n6\\n5\\n10\\n26\\n34\\n-8\\n23\\n16\\nLeganes\\n21\\n5\\n8\\n8\\n19\\n29\\n-10\\n23\\n17\\nAlaves\\n20\\n5\\n5\\n10\\n24\\n32\\n-8\\n20\\n18\\nEspanyol\\n21\\n5\\n5\\n11\\n20\\n33\\n-13\\n20\\n19\\nValencia\\n21\\n3\\n7\\n11\\n20\\n36\\n-16\\n16\\n20\\nReal Valladolid\\n21\\n4\\n3\\n14\\n14\\n42\\n-28\\n15\\nKey\\nChampions League: 1st, 2nd, 3rd, 4th\\nEuropa League: 5th\\nRelegation: 18th, 19th, 20th\\nX\\nFacebook\\nTikTok\\nInstagram\\nYouTube\\nWhatsApp\\nPartners\\nSky Bet\\nSuper 6\\nTEAMtalk.com\\nFootball365.com\\nSky Sports Channels\\nSky Sports Main Event\\nSky Sports Premier League\\nSky Sports Football\\nSky Sports+\\nSky Sports Cricket\\nSky Sports Golf\\nSky Sports F1\\nSky Sports Tennis\\nSky Sports NFL\\nSky Sports News\\nSky Sports Racing\\nSky Sports Mix\\nMore Sky Sites\\nSky.com\\nSky News\\nSky Go\\nSky Group\\nSky For Businesses\\nSky Partnerships\\nSky Impact\\nStore Locator\\nAdvertise With Us\\nTerms & Conditions\\nPrivacy & Cookies Notice\\nPrivacy Options\\nAccessibility Information\\nContact Us\\n© 2025 Sky UK\\nHome\\nSports\\nFootball\\nF1\\nCricket\\nRugby Union\\nRugby League\\nGolf\\nBoxing\\nNFL\\nTennis\\nRacing\\nDarts\\nNetball\\nMMA\\nMore Sports\\nScores\\nWatch\\nSky Bet\\nShop\\nMore\\nPodcasts\\nLive on Sky\\nGet Sky Sports\\nSky Sports App\\nNOW\\nKick It Out\\nBlack Lives Matter\\nBritish South Asians in Football\\nWatch Sky Sports\"}]"
      ]
     },
     "execution_count": 49,
     "metadata": {},
     "output_type": "execute_result"
    }
   ],
   "source": [
    "messages_for(web)"
   ]
  },
  {
   "cell_type": "code",
   "execution_count": 50,
   "id": "c1b27821-8352-4e4b-8de4-435644a9761e",
   "metadata": {},
   "outputs": [],
   "source": [
    "# And now: call the OpenAI API. You will get very familiar with this!\n",
    "\n",
    "def summarize(url):\n",
    "    website = Website(url)\n",
    "    response = openai.chat.completions.create(\n",
    "        model = \"gpt-4o-mini\",\n",
    "        messages = messages_for(website)\n",
    "    )\n",
    "    return response.choices[0].message.content\n",
    "\n",
    "# A function to display this nicely in the Jupyter output, using markdown\n",
    "# Call summarize(url)\n",
    "def display_summary(url):\n",
    "    summary = summarize(url)\n",
    "    display(Markdown(summary))"
   ]
  },
  {
   "cell_type": "code",
   "execution_count": 51,
   "id": "59102b8a-b52e-4020-9649-08a57f7266b2",
   "metadata": {},
   "outputs": [
    {
     "data": {
      "text/markdown": [
       "# Spanish La Liga Table Summary\n",
       "\n",
       "**Top Four Teams:**\n",
       "1. Real Madrid\n",
       "2. Atletico Madrid\n",
       "3. Barcelona\n",
       "4. Athletic Bilbao\n",
       "\n",
       "**Relegation Zone Teams:**\n",
       "18. Espanyol\n",
       "19. Valencia\n",
       "20. Real Valladolid\n",
       "\n",
       "**Goals Analysis:**\n",
       "- **Most Goals Scored:** Barcelona (59 Goals)\n",
       "- **Least Goals Scored:** Real Valladolid (14 Goals)\n",
       "\n",
       "**Goals Conceded Analysis:**\n",
       "- **Most Goals Conceded:** Real Valladolid (42 Goals)\n",
       "- **Least Goals Conceded:** Atletico Madrid (14 Goals)\n",
       "\n",
       "## Key Insights:\n",
       "- Real Madrid leads the table with a strong goal difference of +30, showcasing their offensive strength alongside a solid defense.\n",
       "- Barcelona is the top-scoring team, indicating a potent attack, although they have conceded a relatively high number of goals (24).\n",
       "- The relegation zone includes traditional teams like Valencia, who are struggling significantly with only 16 points and a goal difference of -16.\n",
       "- Real Valladolid appears to be in dire straits, both in scoring and defense, making it difficult for them to escape relegation without drastic improvements."
      ],
      "text/plain": [
       "<IPython.core.display.Markdown object>"
      ]
     },
     "metadata": {},
     "output_type": "display_data"
    }
   ],
   "source": [
    "display_summary(url)"
   ]
  },
  {
   "cell_type": "code",
   "execution_count": null,
   "id": "bae676f0-2af3-443a-9968-8f8964399005",
   "metadata": {},
   "outputs": [],
   "source": []
  }
 ],
 "metadata": {
  "kernelspec": {
   "display_name": "Python 3 (ipykernel)",
   "language": "python",
   "name": "python3"
  },
  "language_info": {
   "codemirror_mode": {
    "name": "ipython",
    "version": 3
   },
   "file_extension": ".py",
   "mimetype": "text/x-python",
   "name": "python",
   "nbconvert_exporter": "python",
   "pygments_lexer": "ipython3",
   "version": "3.11.11"
  }
 },
 "nbformat": 4,
 "nbformat_minor": 5
}
